{
 "cells": [
  {
   "cell_type": "code",
   "execution_count": null,
   "id": "0aa35d0c-432c-46d5-9df5-82f1b4902391",
   "metadata": {},
   "outputs": [],
   "source": [
    "print(240726354637216&0xFFFFFFFFFF)"
   ]
  }
 ],
 "metadata": {
  "kernelspec": {
   "display_name": "Python 3",
   "language": "python",
   "name": "ipython_py3"
  },
  "language_info": {
   "codemirror_mode": {
    "name": "ipython",
    "version": 3
   },
   "file_extension": ".py",
   "mimetype": "text/x-python",
   "name": "python",
   "nbconvert_exporter": "python",
   "pygments_lexer": "ipython3",
   "version": "3.8.13"
  }
 },
 "nbformat": 4,
 "nbformat_minor": 5
}
