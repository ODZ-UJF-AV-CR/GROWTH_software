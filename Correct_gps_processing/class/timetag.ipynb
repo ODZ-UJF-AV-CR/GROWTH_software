{
 "cells": [
  {
   "cell_type": "code",
   "execution_count": 1,
   "id": "0aa35d0c-432c-46d5-9df5-82f1b4902391",
   "metadata": {},
   "outputs": [
    {
     "name": "stdout",
     "output_type": "stream",
     "text": [
      "1032819782048\n"
     ]
    }
   ],
   "source": [
    "print(240726354637216&0xFFFFFFFFFF)"
   ]
  },
  {
   "cell_type": "code",
   "execution_count": null,
   "id": "08c8ad37-a9a2-4687-92e1-b79c8a7baead",
   "metadata": {},
   "outputs": [],
   "source": []
  }
 ],
 "metadata": {
  "kernelspec": {
   "display_name": "Python 3",
   "language": "python",
   "name": "ipython_py3"
  },
  "language_info": {
   "codemirror_mode": {
    "name": "ipython",
    "version": 3
   },
   "file_extension": ".py",
   "mimetype": "text/x-python",
   "name": "python",
   "nbconvert_exporter": "python",
   "pygments_lexer": "ipython3",
   "version": "3.8.13"
  }
 },
 "nbformat": 4,
 "nbformat_minor": 5
}
